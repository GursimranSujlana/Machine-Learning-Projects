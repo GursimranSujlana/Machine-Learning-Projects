{
 "cells": [
  {
   "cell_type": "code",
   "execution_count": 1,
   "id": "d6af2fbf-83a2-4613-b68a-aa9b2c9c8232",
   "metadata": {},
   "outputs": [],
   "source": [
    "import pandas as pd\n",
    "import matplotlib.pyplot as plt\n",
    "import seaborn as sns"
   ]
  },
  {
   "cell_type": "code",
   "execution_count": 2,
   "id": "fe7ebf6f-44c5-49cb-bfa7-bdfe41e0fd60",
   "metadata": {},
   "outputs": [],
   "source": [
    "#loading the dataset\n",
    "file_path = \"../data/cleaned_water_quality.csv\"\n",
    "df=pd.read_csv(file_path)"
   ]
  },
  {
   "cell_type": "code",
   "execution_count": 3,
   "id": "fbffcd13-3729-4547-9f41-011d8a820e4d",
   "metadata": {},
   "outputs": [
    {
     "data": {
      "text/html": [
       "<div>\n",
       "<style scoped>\n",
       "    .dataframe tbody tr th:only-of-type {\n",
       "        vertical-align: middle;\n",
       "    }\n",
       "\n",
       "    .dataframe tbody tr th {\n",
       "        vertical-align: top;\n",
       "    }\n",
       "\n",
       "    .dataframe thead th {\n",
       "        text-align: right;\n",
       "    }\n",
       "</style>\n",
       "<table border=\"1\" class=\"dataframe\">\n",
       "  <thead>\n",
       "    <tr style=\"text-align: right;\">\n",
       "      <th></th>\n",
       "      <th>Sample Site</th>\n",
       "      <th>Sample Date</th>\n",
       "      <th>Analyte</th>\n",
       "      <th>Final Result</th>\n",
       "      <th>Units</th>\n",
       "      <th>Stream Group</th>\n",
       "    </tr>\n",
       "  </thead>\n",
       "  <tbody>\n",
       "    <tr>\n",
       "      <th>0</th>\n",
       "      <td>S4</td>\n",
       "      <td>1987-01-07</td>\n",
       "      <td>Temperature</td>\n",
       "      <td>1.111110</td>\n",
       "      <td>C</td>\n",
       "      <td>Schoharie</td>\n",
       "    </tr>\n",
       "    <tr>\n",
       "      <th>1</th>\n",
       "      <td>S6I</td>\n",
       "      <td>1987-01-07</td>\n",
       "      <td>Temperature</td>\n",
       "      <td>0.555556</td>\n",
       "      <td>C</td>\n",
       "      <td>Schoharie</td>\n",
       "    </tr>\n",
       "    <tr>\n",
       "      <th>2</th>\n",
       "      <td>S8</td>\n",
       "      <td>1987-01-07</td>\n",
       "      <td>Temperature</td>\n",
       "      <td>2.222220</td>\n",
       "      <td>C</td>\n",
       "      <td>Schoharie</td>\n",
       "    </tr>\n",
       "    <tr>\n",
       "      <th>3</th>\n",
       "      <td>S4</td>\n",
       "      <td>1987-01-07</td>\n",
       "      <td>Scent Character</td>\n",
       "      <td>6.970000</td>\n",
       "      <td>mg/L</td>\n",
       "      <td>Schoharie</td>\n",
       "    </tr>\n",
       "    <tr>\n",
       "      <th>4</th>\n",
       "      <td>S6I</td>\n",
       "      <td>1987-01-07</td>\n",
       "      <td>Scent Character</td>\n",
       "      <td>6.970000</td>\n",
       "      <td>mg/L</td>\n",
       "      <td>Schoharie</td>\n",
       "    </tr>\n",
       "  </tbody>\n",
       "</table>\n",
       "</div>"
      ],
      "text/plain": [
       "  Sample Site Sample Date          Analyte  Final Result Units Stream Group\n",
       "0          S4  1987-01-07      Temperature      1.111110     C    Schoharie\n",
       "1         S6I  1987-01-07      Temperature      0.555556     C    Schoharie\n",
       "2          S8  1987-01-07      Temperature      2.222220     C    Schoharie\n",
       "3          S4  1987-01-07  Scent Character      6.970000  mg/L    Schoharie\n",
       "4         S6I  1987-01-07  Scent Character      6.970000  mg/L    Schoharie"
      ]
     },
     "execution_count": 3,
     "metadata": {},
     "output_type": "execute_result"
    }
   ],
   "source": [
    "df.head()"
   ]
  },
  {
   "cell_type": "code",
   "execution_count": 4,
   "id": "576c6c8a-7e39-4fe5-8364-44f1ac189587",
   "metadata": {
    "scrolled": true
   },
   "outputs": [
    {
     "name": "stdout",
     "output_type": "stream",
     "text": [
      "Loaded dataset shape: (1664699, 6)\n",
      "<class 'pandas.core.frame.DataFrame'>\n",
      "RangeIndex: 1664699 entries, 0 to 1664698\n",
      "Data columns (total 6 columns):\n",
      " #   Column        Non-Null Count    Dtype  \n",
      "---  ------        --------------    -----  \n",
      " 0   Sample Site   1664699 non-null  object \n",
      " 1   Sample Date   1664699 non-null  object \n",
      " 2   Analyte       1664699 non-null  object \n",
      " 3   Final Result  1664699 non-null  float64\n",
      " 4   Units         1664699 non-null  object \n",
      " 5   Stream Group  1664699 non-null  object \n",
      "dtypes: float64(1), object(5)\n",
      "memory usage: 76.2+ MB\n",
      "None\n"
     ]
    }
   ],
   "source": [
    "print(f\"Loaded dataset shape: {df.shape}\")\n",
    "print(df.info())"
   ]
  },
  {
   "cell_type": "code",
   "execution_count": 5,
   "id": "e916275d-4eb1-41dd-8d36-110cfe676c07",
   "metadata": {},
   "outputs": [
    {
     "name": "stdout",
     "output_type": "stream",
     "text": [
      "Basic summary statistics\n"
     ]
    },
    {
     "data": {
      "text/html": [
       "<div>\n",
       "<style scoped>\n",
       "    .dataframe tbody tr th:only-of-type {\n",
       "        vertical-align: middle;\n",
       "    }\n",
       "\n",
       "    .dataframe tbody tr th {\n",
       "        vertical-align: top;\n",
       "    }\n",
       "\n",
       "    .dataframe thead th {\n",
       "        text-align: right;\n",
       "    }\n",
       "</style>\n",
       "<table border=\"1\" class=\"dataframe\">\n",
       "  <thead>\n",
       "    <tr style=\"text-align: right;\">\n",
       "      <th></th>\n",
       "      <th>Final Result</th>\n",
       "    </tr>\n",
       "  </thead>\n",
       "  <tbody>\n",
       "    <tr>\n",
       "      <th>count</th>\n",
       "      <td>1.664699e+06</td>\n",
       "    </tr>\n",
       "    <tr>\n",
       "      <th>mean</th>\n",
       "      <td>9.043456e+01</td>\n",
       "    </tr>\n",
       "    <tr>\n",
       "      <th>std</th>\n",
       "      <td>2.542641e+03</td>\n",
       "    </tr>\n",
       "    <tr>\n",
       "      <th>min</th>\n",
       "      <td>-1.638890e+01</td>\n",
       "    </tr>\n",
       "    <tr>\n",
       "      <th>25%</th>\n",
       "      <td>1.810000e+00</td>\n",
       "    </tr>\n",
       "    <tr>\n",
       "      <th>50%</th>\n",
       "      <td>6.970000e+00</td>\n",
       "    </tr>\n",
       "    <tr>\n",
       "      <th>75%</th>\n",
       "      <td>1.400000e+01</td>\n",
       "    </tr>\n",
       "    <tr>\n",
       "      <th>max</th>\n",
       "      <td>1.470000e+06</td>\n",
       "    </tr>\n",
       "  </tbody>\n",
       "</table>\n",
       "</div>"
      ],
      "text/plain": [
       "       Final Result\n",
       "count  1.664699e+06\n",
       "mean   9.043456e+01\n",
       "std    2.542641e+03\n",
       "min   -1.638890e+01\n",
       "25%    1.810000e+00\n",
       "50%    6.970000e+00\n",
       "75%    1.400000e+01\n",
       "max    1.470000e+06"
      ]
     },
     "execution_count": 5,
     "metadata": {},
     "output_type": "execute_result"
    }
   ],
   "source": [
    "# summary statistics\n",
    "print(\"Basic summary statistics\")\n",
    "df.describe()"
   ]
  },
  {
   "cell_type": "code",
   "execution_count": 6,
   "id": "7d7247e6-b3b5-485a-b1b6-4f7f1c1eb5f5",
   "metadata": {},
   "outputs": [
    {
     "data": {
      "image/png": "[encoded data removed]",
      "text/plain": [
       "<Figure size 1000x500 with 1 Axes>"
      ]
     },
     "metadata": {},
     "output_type": "display_data"
    }
   ],
   "source": [
    "#visualization distributions of final result\n",
    "plt.figure(figsize=(10,5))\n",
    "sns.histplot(df['Final Result'], bins=50, kde=True)\n",
    "plt.title(\"Distribution of final result\")\n",
    "plt.xlabel(\"Final Result\")\n",
    "plt.ylabel(\"Count\")\n",
    "plt.show()"
   ]
  },
  {
   "cell_type": "code",
   "execution_count": 7,
   "id": "96e77db0-6931-486a-852f-bd05e250f397",
   "metadata": {},
   "outputs": [
    {
     "data": {
      "image/png": "[encoded data removed]",
      "text/plain": [
       "<Figure size 800x500 with 1 Axes>"
      ]
     },
     "metadata": {},
     "output_type": "display_data"
    }
   ],
   "source": [
    "# boxplot to identift outliers\n",
    "plt.figure(figsize=(8,5))\n",
    "sns.boxplot(x=df['Final Result'])\n",
    "plt.title(\"Boxplot of Final Result\")\n",
    "plt.xlabel(\"Final Result\")\n",
    "plt.show()"
   ]
  },
  {
   "cell_type": "code",
   "execution_count": 8,
   "id": "93c500ec-553b-45a2-8393-14879dc101b0",
   "metadata": {},
   "outputs": [
    {
     "data": {
      "image/png": "[encoded data removed]",
      "text/plain": [
       "<Figure size 1000x600 with 2 Axes>"
      ]
     },
     "metadata": {},
     "output_type": "display_data"
    }
   ],
   "source": [
    "#correlation between numerical values\n",
    "plt.figure(figsize=(10,6))\n",
    "sns.heatmap(df.select_dtypes(include='number').corr(), annot=True, cmap=\"coolwarm\")\n",
    "plt.title(\"correlation heatmap\")\n",
    "plt.show()"
   ]
  },
  {
   "cell_type": "code",
   "execution_count": 9,
   "id": "39fbba3b-4503-41a0-bf6f-f14fdc00137c",
   "metadata": {},
   "outputs": [
    {
     "data": {
      "text/plain": [
       "Index(['Sample Site', 'Sample Date', 'Analyte', 'Final Result', 'Units',\n",
       "       'Stream Group'],\n",
       "      dtype='object')"
      ]
     },
     "execution_count": 9,
     "metadata": {},
     "output_type": "execute_result"
    }
   ],
   "source": [
    "df.columns"
   ]
  },
  {
   "cell_type": "code",
   "execution_count": null,
   "id": "54ae2af2-4829-4487-a848-a3cb8722f34c",
   "metadata": {},
   "outputs": [],
   "source": []
  },
  {
   "cell_type": "code",
   "execution_count": null,
   "id": "9b4395a8-a1e8-4ead-8106-3b40b8f09c19",
   "metadata": {},
   "outputs": [],
   "source": []
  },
  {
   "cell_type": "code",
   "execution_count": null,
   "id": "3d72f83a-9506-4bab-ad2e-542069e5e915",
   "metadata": {},
   "outputs": [],
   "source": []
  }
 ],
 "metadata": {
  "kernelspec": {
   "display_name": "Python 3 (ipykernel)",
   "language": "python",
   "name": "python3"
  },
  "language_info": {
   "codemirror_mode": {
    "name": "ipython",
    "version": 3
   },
   "file_extension": ".py",
   "mimetype": "text/x-python",
   "name": "python",
   "nbconvert_exporter": "python",
   "pygments_lexer": "ipython3",
   "version": "3.11.1"
  }
 },
 "nbformat": 4,
 "nbformat_minor": 5
}
