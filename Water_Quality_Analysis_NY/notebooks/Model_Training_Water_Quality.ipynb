{
 "cells": [
  {
   "cell_type": "code",
   "execution_count": 1,
   "id": "bd5287b5-0db5-4363-b2ed-45a504180a6d",
   "metadata": {
    "scrolled": true
   },
   "outputs": [],
   "source": [
    "#!pip install lazypredict"
   ]
  },
  {
   "cell_type": "code",
   "execution_count": 2,
   "id": "a3eb0e5d-a0d1-42c5-b6b3-0e964f29ed26",
   "metadata": {
    "scrolled": true
   },
   "outputs": [],
   "source": [
    "#pip install -U scikit-learn"
   ]
  },
  {
   "cell_type": "code",
   "execution_count": 1,
   "id": "c966674c-2669-4fbc-a0bf-09bb08d3ad5c",
   "metadata": {},
   "outputs": [],
   "source": [
    "import pandas as pd\n",
    "from lazypredict.Supervised import LazyRegressor\n",
    "from sklearn.model_selection import train_test_split\n",
    "from sklearn.preprocessing import StandardScaler\n",
    "import matplotlib.pyplot as plt\n",
    "from sklearn.linear_model import LinearRegression, Ridge, Lasso\n",
    "from sklearn.metrics import mean_squared_error, r2_score\n",
    "from sklearn.model_selection import train_test_split\n",
    "from sklearn.impute import SimpleImputer"
   ]
  },
  {
   "cell_type": "code",
   "execution_count": 2,
   "id": "30494141-d9e4-478f-8b3b-ce2e8daa5383",
   "metadata": {},
   "outputs": [],
   "source": [
    "df=pd.read_csv(\"../data/engineering_water_quality.csv\")"
   ]
  },
  {
   "cell_type": "code",
   "execution_count": 3,
   "id": "3f189985-a2e0-4b84-85a0-fb1ac0c896ee",
   "metadata": {
    "scrolled": true
   },
   "outputs": [
    {
     "data": {
      "text/html": [
       "<div>\n",
       "<style scoped>\n",
       "    .dataframe tbody tr th:only-of-type {\n",
       "        vertical-align: middle;\n",
       "    }\n",
       "\n",
       "    .dataframe tbody tr th {\n",
       "        vertical-align: top;\n",
       "    }\n",
       "\n",
       "    .dataframe thead th {\n",
       "        text-align: right;\n",
       "    }\n",
       "</style>\n",
       "<table border=\"1\" class=\"dataframe\">\n",
       "  <thead>\n",
       "    <tr style=\"text-align: right;\">\n",
       "      <th></th>\n",
       "      <th>Sample Site</th>\n",
       "      <th>Sample Date</th>\n",
       "      <th>Analyte</th>\n",
       "      <th>Final Result</th>\n",
       "      <th>Units</th>\n",
       "      <th>Stream Group</th>\n",
       "      <th>Year</th>\n",
       "      <th>Log Final Result</th>\n",
       "      <th>Month</th>\n",
       "      <th>Season</th>\n",
       "      <th>Stream Group Encoded</th>\n",
       "      <th>Season Encoded</th>\n",
       "      <th>Sample Site Encoded</th>\n",
       "      <th>Final Result Scaled</th>\n",
       "      <th>Log Final Result Scaled</th>\n",
       "      <th>Day</th>\n",
       "      <th>Weekday</th>\n",
       "      <th>Turbidity Rolling Avg</th>\n",
       "    </tr>\n",
       "  </thead>\n",
       "  <tbody>\n",
       "    <tr>\n",
       "      <th>0</th>\n",
       "      <td>S4</td>\n",
       "      <td>1987-01-07</td>\n",
       "      <td>Temperature</td>\n",
       "      <td>1.11</td>\n",
       "      <td>C</td>\n",
       "      <td>Schoharie</td>\n",
       "      <td>1987</td>\n",
       "      <td>0.11</td>\n",
       "      <td>1</td>\n",
       "      <td>Winter</td>\n",
       "      <td>14</td>\n",
       "      <td>3</td>\n",
       "      <td>340</td>\n",
       "      <td>-0.04</td>\n",
       "      <td>-0.75</td>\n",
       "      <td>7</td>\n",
       "      <td>2</td>\n",
       "      <td>1.31</td>\n",
       "    </tr>\n",
       "    <tr>\n",
       "      <th>1</th>\n",
       "      <td>S6I</td>\n",
       "      <td>1987-01-07</td>\n",
       "      <td>Temperature</td>\n",
       "      <td>0.56</td>\n",
       "      <td>C</td>\n",
       "      <td>Schoharie</td>\n",
       "      <td>1987</td>\n",
       "      <td>-0.59</td>\n",
       "      <td>1</td>\n",
       "      <td>Winter</td>\n",
       "      <td>14</td>\n",
       "      <td>3</td>\n",
       "      <td>343</td>\n",
       "      <td>-0.04</td>\n",
       "      <td>-1.07</td>\n",
       "      <td>7</td>\n",
       "      <td>2</td>\n",
       "      <td>1.26</td>\n",
       "    </tr>\n",
       "    <tr>\n",
       "      <th>2</th>\n",
       "      <td>S8</td>\n",
       "      <td>1987-01-07</td>\n",
       "      <td>Temperature</td>\n",
       "      <td>2.22</td>\n",
       "      <td>C</td>\n",
       "      <td>Schoharie</td>\n",
       "      <td>1987</td>\n",
       "      <td>0.80</td>\n",
       "      <td>1</td>\n",
       "      <td>Winter</td>\n",
       "      <td>14</td>\n",
       "      <td>3</td>\n",
       "      <td>355</td>\n",
       "      <td>-0.03</td>\n",
       "      <td>-0.43</td>\n",
       "      <td>7</td>\n",
       "      <td>2</td>\n",
       "      <td>1.47</td>\n",
       "    </tr>\n",
       "    <tr>\n",
       "      <th>3</th>\n",
       "      <td>S4</td>\n",
       "      <td>1987-01-07</td>\n",
       "      <td>Scent Character</td>\n",
       "      <td>6.97</td>\n",
       "      <td>mg/L</td>\n",
       "      <td>Schoharie</td>\n",
       "      <td>1987</td>\n",
       "      <td>1.94</td>\n",
       "      <td>1</td>\n",
       "      <td>Winter</td>\n",
       "      <td>14</td>\n",
       "      <td>3</td>\n",
       "      <td>340</td>\n",
       "      <td>-0.03</td>\n",
       "      <td>0.11</td>\n",
       "      <td>7</td>\n",
       "      <td>2</td>\n",
       "      <td>1.31</td>\n",
       "    </tr>\n",
       "    <tr>\n",
       "      <th>4</th>\n",
       "      <td>S6I</td>\n",
       "      <td>1987-01-07</td>\n",
       "      <td>Scent Character</td>\n",
       "      <td>6.97</td>\n",
       "      <td>mg/L</td>\n",
       "      <td>Schoharie</td>\n",
       "      <td>1987</td>\n",
       "      <td>1.94</td>\n",
       "      <td>1</td>\n",
       "      <td>Winter</td>\n",
       "      <td>14</td>\n",
       "      <td>3</td>\n",
       "      <td>343</td>\n",
       "      <td>-0.03</td>\n",
       "      <td>0.11</td>\n",
       "      <td>7</td>\n",
       "      <td>2</td>\n",
       "      <td>1.26</td>\n",
       "    </tr>\n",
       "  </tbody>\n",
       "</table>\n",
       "</div>"
      ],
      "text/plain": [
       "  Sample Site Sample Date          Analyte  Final Result Units Stream Group  \\\n",
       "0          S4  1987-01-07      Temperature          1.11     C    Schoharie   \n",
       "1         S6I  1987-01-07      Temperature          0.56     C    Schoharie   \n",
       "2          S8  1987-01-07      Temperature          2.22     C    Schoharie   \n",
       "3          S4  1987-01-07  Scent Character          6.97  mg/L    Schoharie   \n",
       "4         S6I  1987-01-07  Scent Character          6.97  mg/L    Schoharie   \n",
       "\n",
       "   Year  Log Final Result  Month  Season  Stream Group Encoded  \\\n",
       "0  1987              0.11      1  Winter                    14   \n",
       "1  1987             -0.59      1  Winter                    14   \n",
       "2  1987              0.80      1  Winter                    14   \n",
       "3  1987              1.94      1  Winter                    14   \n",
       "4  1987              1.94      1  Winter                    14   \n",
       "\n",
       "   Season Encoded  Sample Site Encoded  Final Result Scaled  \\\n",
       "0               3                  340                -0.04   \n",
       "1               3                  343                -0.04   \n",
       "2               3                  355                -0.03   \n",
       "3               3                  340                -0.03   \n",
       "4               3                  343                -0.03   \n",
       "\n",
       "   Log Final Result Scaled  Day  Weekday  Turbidity Rolling Avg  \n",
       "0                    -0.75    7        2                   1.31  \n",
       "1                    -1.07    7        2                   1.26  \n",
       "2                    -0.43    7        2                   1.47  \n",
       "3                     0.11    7        2                   1.31  \n",
       "4                     0.11    7        2                   1.26  "
      ]
     },
     "execution_count": 3,
     "metadata": {},
     "output_type": "execute_result"
    }
   ],
   "source": [
    "df.head()"
   ]
  },
  {
   "cell_type": "code",
   "execution_count": 4,
   "id": "201ee648-7f0c-4171-a817-b2ad1b96ed95",
   "metadata": {},
   "outputs": [
    {
     "data": {
      "text/plain": [
       "(2038120, 18)"
      ]
     },
     "execution_count": 4,
     "metadata": {},
     "output_type": "execute_result"
    }
   ],
   "source": [
    "df.shape"
   ]
  },
  {
   "cell_type": "code",
   "execution_count": 5,
   "id": "4775d361-01c9-461e-8659-718a7ea7b106",
   "metadata": {},
   "outputs": [
    {
     "data": {
      "text/plain": [
       "Sample Site                    0\n",
       "Sample Date                    0\n",
       "Analyte                        0\n",
       "Final Result                   0\n",
       "Units                          0\n",
       "Stream Group                   0\n",
       "Year                           0\n",
       "Log Final Result           28895\n",
       "Month                          0\n",
       "Season                         0\n",
       "Stream Group Encoded           0\n",
       "Season Encoded                 0\n",
       "Sample Site Encoded            0\n",
       "Final Result Scaled            0\n",
       "Log Final Result Scaled    28895\n",
       "Day                            0\n",
       "Weekday                        0\n",
       "Turbidity Rolling Avg      51705\n",
       "dtype: int64"
      ]
     },
     "execution_count": 5,
     "metadata": {},
     "output_type": "execute_result"
    }
   ],
   "source": [
    "df.isna().sum()"
   ]
  },
  {
   "cell_type": "code",
   "execution_count": 6,
   "id": "e3cf6a1a-51fd-4a26-97d2-6c2cf8742f9a",
   "metadata": {},
   "outputs": [],
   "source": [
    "#defining imputer with median strategy\n",
    "imputer=SimpleImputer(strategy=\"median\")\n",
    "df[['Log Final Result', 'Log Final Result Scaled', 'Turbidity Rolling Avg']]=imputer.fit_transform(df[['Log Final Result', 'Log Final Result Scaled', 'Turbidity Rolling Avg']])"
   ]
  },
  {
   "cell_type": "code",
   "execution_count": 7,
   "id": "c6289d9a-8c25-4df9-ab87-6b4eb7a41d1a",
   "metadata": {},
   "outputs": [
    {
     "data": {
      "text/plain": [
       "Sample Site                0\n",
       "Sample Date                0\n",
       "Analyte                    0\n",
       "Final Result               0\n",
       "Units                      0\n",
       "Stream Group               0\n",
       "Year                       0\n",
       "Log Final Result           0\n",
       "Month                      0\n",
       "Season                     0\n",
       "Stream Group Encoded       0\n",
       "Season Encoded             0\n",
       "Sample Site Encoded        0\n",
       "Final Result Scaled        0\n",
       "Log Final Result Scaled    0\n",
       "Day                        0\n",
       "Weekday                    0\n",
       "Turbidity Rolling Avg      0\n",
       "dtype: int64"
      ]
     },
     "execution_count": 7,
     "metadata": {},
     "output_type": "execute_result"
    }
   ],
   "source": [
    "df.isna().sum()"
   ]
  },
  {
   "cell_type": "code",
   "execution_count": 8,
   "id": "88dbb53f-9f68-4356-b314-6e2b51051344",
   "metadata": {},
   "outputs": [
    {
     "name": "stdout",
     "output_type": "stream",
     "text": [
      "Final Result Scaled        1.00\n",
      "Final Result               1.00\n",
      "Log Final Result           0.10\n",
      "Log Final Result Scaled    0.10\n",
      "Weekday                    0.04\n",
      "Year                       0.02\n",
      "Day                        0.01\n",
      "Month                      0.01\n",
      "Turbidity Rolling Avg      0.00\n",
      "Sample Site Encoded        0.00\n",
      "Stream Group Encoded       0.00\n",
      "Season Encoded            -0.01\n",
      "Name: Final Result, dtype: float64\n"
     ]
    }
   ],
   "source": [
    "# Select only numeric columns for correlation analysis\n",
    "numeric_df = df.select_dtypes(include=['number'])\n",
    "\n",
    "# Compute correlation with 'Final Result'\n",
    "correlation_with_target = numeric_df.corr()['Final Result'].sort_values(ascending=False)\n",
    "print(correlation_with_target)"
   ]
  },
  {
   "cell_type": "code",
   "execution_count": 9,
   "id": "c0694a70-73d1-44d5-8cd7-605aa68ca621",
   "metadata": {},
   "outputs": [
    {
     "name": "stdout",
     "output_type": "stream",
     "text": [
      "Selected features for X: ['Year', 'Month', 'Season', 'Stream Group Encoded', 'Season Encoded', 'Sample Site Encoded', 'Day', 'Weekday', 'Turbidity Rolling Avg']\n"
     ]
    }
   ],
   "source": [
    "#defining the target variable\n",
    "y=df['Final Result']\n",
    "\n",
    "#dropping non-relevant columns from X\n",
    "X=df.drop(columns=['Sample Site', 'Sample Date', 'Analyte','Final Result','Units','Stream Group', 'Log Final Result Scaled','Log Final Result','Final Result Scaled'])\n",
    "\n",
    "#verifying selected features\n",
    "print(\"Selected features for X:\", X.columns.tolist())"
   ]
  },
  {
   "cell_type": "code",
   "execution_count": 10,
   "id": "a97bb0e1-165a-4651-ab6d-0563091d8750",
   "metadata": {},
   "outputs": [
    {
     "name": "stdout",
     "output_type": "stream",
     "text": [
      "Year                       int64\n",
      "Month                      int64\n",
      "Season                      int8\n",
      "Stream Group Encoded       int64\n",
      "Season Encoded             int64\n",
      "Sample Site Encoded        int64\n",
      "Day                        int64\n",
      "Weekday                    int64\n",
      "Turbidity Rolling Avg    float64\n",
      "dtype: object\n"
     ]
    }
   ],
   "source": [
    "#converting categorical features into numeric if they are still in text format\n",
    "if 'Season' in X.columns:\n",
    "    X['Season']=X['Season'].astype('category').cat.codes\n",
    "\n",
    "print(X.dtypes)"
   ]
  },
  {
   "cell_type": "code",
   "execution_count": 13,
   "id": "bca65b9a-947f-442d-af70-27d2722643fd",
   "metadata": {},
   "outputs": [],
   "source": [
    "#splitting the dataset\n",
    "X_train,X_test,y_train,y_test=train_test_split(X,y,test_size=0.2,random_state=42)\n",
    "\n",
    "#standardizing features\n",
    "#scaler=StandardScaler()\n",
    "#X_train=scaler.fit_transform(X_train)\n",
    "#X_test=scaler.transform(X_test)\n",
    "\n",
    "# Standardize y\n",
    "scaler_y = StandardScaler()\n",
    "y_train_scaled = scaler_y.fit_transform(y_train.values.reshape(-1, 1)).flatten()\n",
    "y_test_scaled = scaler_y.transform(y_test.values.reshape(-1, 1)).flatten()"
   ]
  },
  {
   "cell_type": "code",
   "execution_count": 15,
   "id": "69722f4e-3beb-4167-a266-a6465c40ae4a",
   "metadata": {},
   "outputs": [
    {
     "name": "stdout",
     "output_type": "stream",
     "text": [
      "Random Forest RMSE: 9539.800706086724\n",
      "Random Forest R²: 0.00803974484880654\n"
     ]
    }
   ],
   "source": [
    "from sklearn.ensemble import RandomForestRegressor\n",
    "\n",
    "rf = RandomForestRegressor(n_estimators=100, random_state=42)\n",
    "rf.fit(X_train, y_train)\n",
    "y_pred_rf = rf.predict(X_test)\n",
    "\n",
    "print(\"Random Forest RMSE:\", mean_squared_error(y_test, y_pred_rf)** 0.5)\n",
    "print(\"Random Forest R²:\", r2_score(y_test, y_pred_rf))"
   ]
  },
  {
   "cell_type": "code",
   "execution_count": 11,
   "id": "23343b53-0a5a-42d1-8dac-e2b7ceeb9b7a",
   "metadata": {
    "scrolled": true
   },
   "outputs": [],
   "source": [
    "#dictionary to store model results\n",
    "results={}\n",
    "# Train models with scaled y\n",
    "models = {'Linear Regression': LinearRegression(), 'Ridge Regression': Ridge(alpha=1.0), 'Lasso Regression': Lasso(alpha=0.1)}\n",
    "\n",
    "# Dictionary to store results\n",
    "results = {}\n",
    "\n",
    "for name, model in models.items():\n",
    "    model.fit(X_train, y_train_scaled)\n",
    "    y_pred = model.predict(X_test)\n",
    "\n",
    "    results[name] = {\n",
    "        \"RMSE\": mean_squared_error(y_test_scaled, y_pred) ** 0.5,  # Corrected RMSE Calculation\n",
    "        \"R²\": r2_score(y_test_scaled, y_pred)\n",
    "    }"
   ]
  },
  {
   "cell_type": "code",
   "execution_count": 12,
   "id": "1c299606-c923-41b2-b7bc-91e129a9c89b",
   "metadata": {},
   "outputs": [
    {
     "data": {
      "text/html": [
       "<div>\n",
       "<style scoped>\n",
       "    .dataframe tbody tr th:only-of-type {\n",
       "        vertical-align: middle;\n",
       "    }\n",
       "\n",
       "    .dataframe tbody tr th {\n",
       "        vertical-align: top;\n",
       "    }\n",
       "\n",
       "    .dataframe thead th {\n",
       "        text-align: right;\n",
       "    }\n",
       "</style>\n",
       "<table border=\"1\" class=\"dataframe\">\n",
       "  <thead>\n",
       "    <tr style=\"text-align: right;\">\n",
       "      <th></th>\n",
       "      <th>RMSE</th>\n",
       "      <th>R²</th>\n",
       "    </tr>\n",
       "  </thead>\n",
       "  <tbody>\n",
       "    <tr>\n",
       "      <th>Linear Regression</th>\n",
       "      <td>0.99</td>\n",
       "      <td>0.00</td>\n",
       "    </tr>\n",
       "    <tr>\n",
       "      <th>Ridge Regression</th>\n",
       "      <td>0.99</td>\n",
       "      <td>0.00</td>\n",
       "    </tr>\n",
       "    <tr>\n",
       "      <th>Lasso Regression</th>\n",
       "      <td>0.99</td>\n",
       "      <td>0.00</td>\n",
       "    </tr>\n",
       "  </tbody>\n",
       "</table>\n",
       "</div>"
      ],
      "text/plain": [
       "                   RMSE   R²\n",
       "Linear Regression  0.99 0.00\n",
       "Ridge Regression   0.99 0.00\n",
       "Lasso Regression   0.99 0.00"
      ]
     },
     "execution_count": 12,
     "metadata": {},
     "output_type": "execute_result"
    }
   ],
   "source": [
    "#displaying results\n",
    "results_df=pd.DataFrame(results).T\n",
    "results_df=results_df.sort_values(by=\"RMSE\",ascending=True)\n",
    "results_df"
   ]
  },
  {
   "cell_type": "code",
   "execution_count": 13,
   "id": "0ab015fc-2266-4478-837e-c418b4b77c85",
   "metadata": {},
   "outputs": [
    {
     "name": "stdout",
     "output_type": "stream",
     "text": [
      "count   1630496.00\n",
      "mean        217.59\n",
      "std        9649.79\n",
      "min         -16.39\n",
      "25%           2.22\n",
      "50%           6.97\n",
      "75%          12.94\n",
      "max     1470000.00\n",
      "Name: Final Result, dtype: float64\n",
      "count    407624.00\n",
      "mean        218.46\n",
      "std        9578.39\n",
      "min          -2.22\n",
      "25%           2.20\n",
      "50%           6.97\n",
      "75%          12.95\n",
      "max     1470000.00\n",
      "Name: Final Result, dtype: float64\n"
     ]
    }
   ],
   "source": [
    "print(y_train.describe())\n",
    "print(y_test.describe())"
   ]
  },
  {
   "cell_type": "code",
   "execution_count": 14,
   "id": "345c7e33-3a0a-4285-b30e-f367a8e650e6",
   "metadata": {},
   "outputs": [
    {
     "name": "stdout",
     "output_type": "stream",
     "text": [
      "Year                      102.91\n",
      "Month                      11.21\n",
      "Season                      1.26\n",
      "Stream Group Encoded       23.71\n",
      "Season Encoded              1.26\n",
      "Sample Site Encoded     14578.54\n",
      "Day                        73.32\n",
      "Weekday                     1.74\n",
      "Turbidity Rolling Avg     516.51\n",
      "dtype: float64\n"
     ]
    }
   ],
   "source": [
    "print(pd.DataFrame(X_train).var())"
   ]
  },
  {
   "cell_type": "code",
   "execution_count": 15,
   "id": "eee8c27d-8bca-45b4-9b68-f193d8bbd398",
   "metadata": {},
   "outputs": [
    {
     "ename": "ValueError",
     "evalue": "could not convert string to float: 'S4'",
     "output_type": "error",
     "traceback": [
      "\u001b[0;31m---------------------------------------------------------------------------\u001b[0m",
      "\u001b[0;31mValueError\u001b[0m                                Traceback (most recent call last)",
      "Cell \u001b[0;32mIn[15], line 1\u001b[0m\n\u001b[0;32m----> 1\u001b[0m \u001b[38;5;28mprint\u001b[39m(\u001b[43mdf\u001b[49m\u001b[38;5;241;43m.\u001b[39;49m\u001b[43mcorr\u001b[49m\u001b[43m(\u001b[49m\u001b[43m)\u001b[49m[\u001b[38;5;124m'\u001b[39m\u001b[38;5;124mFinal Result\u001b[39m\u001b[38;5;124m'\u001b[39m]\u001b[38;5;241m.\u001b[39msort_values(ascending\u001b[38;5;241m=\u001b[39m\u001b[38;5;28;01mFalse\u001b[39;00m))\n",
      "File \u001b[0;32m/Library/Frameworks/Python.framework/Versions/3.11/lib/python3.11/site-packages/pandas/core/frame.py:11049\u001b[0m, in \u001b[0;36mDataFrame.corr\u001b[0;34m(self, method, min_periods, numeric_only)\u001b[0m\n\u001b[1;32m  11047\u001b[0m cols \u001b[38;5;241m=\u001b[39m data\u001b[38;5;241m.\u001b[39mcolumns\n\u001b[1;32m  11048\u001b[0m idx \u001b[38;5;241m=\u001b[39m cols\u001b[38;5;241m.\u001b[39mcopy()\n\u001b[0;32m> 11049\u001b[0m mat \u001b[38;5;241m=\u001b[39m \u001b[43mdata\u001b[49m\u001b[38;5;241;43m.\u001b[39;49m\u001b[43mto_numpy\u001b[49m\u001b[43m(\u001b[49m\u001b[43mdtype\u001b[49m\u001b[38;5;241;43m=\u001b[39;49m\u001b[38;5;28;43mfloat\u001b[39;49m\u001b[43m,\u001b[49m\u001b[43m \u001b[49m\u001b[43mna_value\u001b[49m\u001b[38;5;241;43m=\u001b[39;49m\u001b[43mnp\u001b[49m\u001b[38;5;241;43m.\u001b[39;49m\u001b[43mnan\u001b[49m\u001b[43m,\u001b[49m\u001b[43m \u001b[49m\u001b[43mcopy\u001b[49m\u001b[38;5;241;43m=\u001b[39;49m\u001b[38;5;28;43;01mFalse\u001b[39;49;00m\u001b[43m)\u001b[49m\n\u001b[1;32m  11051\u001b[0m \u001b[38;5;28;01mif\u001b[39;00m method \u001b[38;5;241m==\u001b[39m \u001b[38;5;124m\"\u001b[39m\u001b[38;5;124mpearson\u001b[39m\u001b[38;5;124m\"\u001b[39m:\n\u001b[1;32m  11052\u001b[0m     correl \u001b[38;5;241m=\u001b[39m libalgos\u001b[38;5;241m.\u001b[39mnancorr(mat, minp\u001b[38;5;241m=\u001b[39mmin_periods)\n",
      "File \u001b[0;32m/Library/Frameworks/Python.framework/Versions/3.11/lib/python3.11/site-packages/pandas/core/frame.py:1993\u001b[0m, in \u001b[0;36mDataFrame.to_numpy\u001b[0;34m(self, dtype, copy, na_value)\u001b[0m\n\u001b[1;32m   1991\u001b[0m \u001b[38;5;28;01mif\u001b[39;00m dtype \u001b[38;5;129;01mis\u001b[39;00m \u001b[38;5;129;01mnot\u001b[39;00m \u001b[38;5;28;01mNone\u001b[39;00m:\n\u001b[1;32m   1992\u001b[0m     dtype \u001b[38;5;241m=\u001b[39m np\u001b[38;5;241m.\u001b[39mdtype(dtype)\n\u001b[0;32m-> 1993\u001b[0m result \u001b[38;5;241m=\u001b[39m \u001b[38;5;28;43mself\u001b[39;49m\u001b[38;5;241;43m.\u001b[39;49m\u001b[43m_mgr\u001b[49m\u001b[38;5;241;43m.\u001b[39;49m\u001b[43mas_array\u001b[49m\u001b[43m(\u001b[49m\u001b[43mdtype\u001b[49m\u001b[38;5;241;43m=\u001b[39;49m\u001b[43mdtype\u001b[49m\u001b[43m,\u001b[49m\u001b[43m \u001b[49m\u001b[43mcopy\u001b[49m\u001b[38;5;241;43m=\u001b[39;49m\u001b[43mcopy\u001b[49m\u001b[43m,\u001b[49m\u001b[43m \u001b[49m\u001b[43mna_value\u001b[49m\u001b[38;5;241;43m=\u001b[39;49m\u001b[43mna_value\u001b[49m\u001b[43m)\u001b[49m\n\u001b[1;32m   1994\u001b[0m \u001b[38;5;28;01mif\u001b[39;00m result\u001b[38;5;241m.\u001b[39mdtype \u001b[38;5;129;01mis\u001b[39;00m \u001b[38;5;129;01mnot\u001b[39;00m dtype:\n\u001b[1;32m   1995\u001b[0m     result \u001b[38;5;241m=\u001b[39m np\u001b[38;5;241m.\u001b[39masarray(result, dtype\u001b[38;5;241m=\u001b[39mdtype)\n",
      "File \u001b[0;32m/Library/Frameworks/Python.framework/Versions/3.11/lib/python3.11/site-packages/pandas/core/internals/managers.py:1694\u001b[0m, in \u001b[0;36mBlockManager.as_array\u001b[0;34m(self, dtype, copy, na_value)\u001b[0m\n\u001b[1;32m   1692\u001b[0m         arr\u001b[38;5;241m.\u001b[39mflags\u001b[38;5;241m.\u001b[39mwriteable \u001b[38;5;241m=\u001b[39m \u001b[38;5;28;01mFalse\u001b[39;00m\n\u001b[1;32m   1693\u001b[0m \u001b[38;5;28;01melse\u001b[39;00m:\n\u001b[0;32m-> 1694\u001b[0m     arr \u001b[38;5;241m=\u001b[39m \u001b[38;5;28;43mself\u001b[39;49m\u001b[38;5;241;43m.\u001b[39;49m\u001b[43m_interleave\u001b[49m\u001b[43m(\u001b[49m\u001b[43mdtype\u001b[49m\u001b[38;5;241;43m=\u001b[39;49m\u001b[43mdtype\u001b[49m\u001b[43m,\u001b[49m\u001b[43m \u001b[49m\u001b[43mna_value\u001b[49m\u001b[38;5;241;43m=\u001b[39;49m\u001b[43mna_value\u001b[49m\u001b[43m)\u001b[49m\n\u001b[1;32m   1695\u001b[0m     \u001b[38;5;66;03m# The underlying data was copied within _interleave, so no need\u001b[39;00m\n\u001b[1;32m   1696\u001b[0m     \u001b[38;5;66;03m# to further copy if copy=True or setting na_value\u001b[39;00m\n\u001b[1;32m   1698\u001b[0m \u001b[38;5;28;01mif\u001b[39;00m na_value \u001b[38;5;129;01mis\u001b[39;00m lib\u001b[38;5;241m.\u001b[39mno_default:\n",
      "File \u001b[0;32m/Library/Frameworks/Python.framework/Versions/3.11/lib/python3.11/site-packages/pandas/core/internals/managers.py:1753\u001b[0m, in \u001b[0;36mBlockManager._interleave\u001b[0;34m(self, dtype, na_value)\u001b[0m\n\u001b[1;32m   1751\u001b[0m     \u001b[38;5;28;01melse\u001b[39;00m:\n\u001b[1;32m   1752\u001b[0m         arr \u001b[38;5;241m=\u001b[39m blk\u001b[38;5;241m.\u001b[39mget_values(dtype)\n\u001b[0;32m-> 1753\u001b[0m     \u001b[43mresult\u001b[49m\u001b[43m[\u001b[49m\u001b[43mrl\u001b[49m\u001b[38;5;241;43m.\u001b[39;49m\u001b[43mindexer\u001b[49m\u001b[43m]\u001b[49m \u001b[38;5;241m=\u001b[39m arr\n\u001b[1;32m   1754\u001b[0m     itemmask[rl\u001b[38;5;241m.\u001b[39mindexer] \u001b[38;5;241m=\u001b[39m \u001b[38;5;241m1\u001b[39m\n\u001b[1;32m   1756\u001b[0m \u001b[38;5;28;01mif\u001b[39;00m \u001b[38;5;129;01mnot\u001b[39;00m itemmask\u001b[38;5;241m.\u001b[39mall():\n",
      "\u001b[0;31mValueError\u001b[0m: could not convert string to float: 'S4'"
     ]
    }
   ],
   "source": [
    "print(df.corr()['Final Result'].sort_values(ascending=False))"
   ]
  },
  {
   "cell_type": "code",
   "execution_count": null,
   "id": "99036da1-af54-4c79-9c73-d30c49a508af",
   "metadata": {},
   "outputs": [],
   "source": []
  },
  {
   "cell_type": "code",
   "execution_count": null,
   "id": "1acf8b73-7c14-4418-841d-cb45fe340eb5",
   "metadata": {},
   "outputs": [],
   "source": []
  },
  {
   "cell_type": "code",
   "execution_count": 14,
   "id": "64569aad-06f0-4dcd-af28-73cd596e1e46",
   "metadata": {},
   "outputs": [
    {
     "name": "stderr",
     "output_type": "stream",
     "text": [
      "100%|███████████████████████████████████████████| 42/42 [03:30<00:00,  5.00s/it]"
     ]
    },
    {
     "name": "stdout",
     "output_type": "stream",
     "text": [
      "[LightGBM] [Info] Auto-choosing row-wise multi-threading, the overhead of testing was 0.000179 seconds.\n",
      "You can set `force_row_wise=true` to remove the overhead.\n",
      "And if memory is not enough, you can set `force_col_wise=true`.\n",
      "[LightGBM] [Info] Total Bins 585\n",
      "[LightGBM] [Info] Number of data points in the train set: 5000, number of used features: 9\n",
      "[LightGBM] [Info] Start training from score 95.266114\n"
     ]
    },
    {
     "name": "stderr",
     "output_type": "stream",
     "text": [
      "\n"
     ]
    }
   ],
   "source": [
    "#run LazyRegressor\n",
    "reg=LazyRegressor(verbose=0, ignore_warnings=True,custom_metric=None)\n",
    "models,predictions=reg.fit(X_train[:5000],X_test[:5000],y_train[:5000],y_test[:5000])"
   ]
  },
  {
   "cell_type": "code",
   "execution_count": 15,
   "id": "044559a9-1fc9-4e93-b15c-e6a2f0a9daf7",
   "metadata": {},
   "outputs": [
    {
     "name": "stdout",
     "output_type": "stream",
     "text": [
      "                             Adjusted R-Squared  R-Squared    RMSE  Time Taken\n",
      "Model                                                                         \n",
      "BayesianRidge                             -0.00       0.00 1096.41        0.03\n",
      "TweedieRegressor                          -0.00       0.00 1096.53        0.02\n",
      "ElasticNet                                -0.00       0.00 1096.72        0.02\n",
      "ElasticNetCV                              -0.00       0.00 1096.73        0.11\n",
      "LassoCV                                   -0.00      -0.00 1096.74        0.13\n",
      "LassoLarsCV                               -0.00      -0.00 1096.74        0.04\n",
      "LarsCV                                    -0.00      -0.00 1096.74        0.04\n",
      "DummyRegressor                            -0.00      -0.00 1096.74        0.01\n",
      "LassoLarsIC                               -0.00      -0.00 1096.75        0.03\n",
      "OrthogonalMatchingPursuitCV               -0.00      -0.00 1097.15        0.06\n"
     ]
    }
   ],
   "source": [
    "#showing top 10 models sorted by RMSE\n",
    "print(models.sort_values(by=\"RMSE\").head(10))"
   ]
  },
  {
   "cell_type": "code",
   "execution_count": 16,
   "id": "f0bcc60b-239a-497d-a3fd-daec44600f62",
   "metadata": {},
   "outputs": [],
   "source": [
    "#saving mode comparison results to a file for review\n",
    "#models.to_csv(\"lazy_regressor_results.csv\", index=True)\n",
    "#print(\"LazyRegressor results saved\")"
   ]
  },
  {
   "cell_type": "code",
   "execution_count": 17,
   "id": "27115c6a-82cd-4698-a2f6-95f6908fe567",
   "metadata": {},
   "outputs": [
    {
     "data": {
      "text/plain": [
       "<function matplotlib.pyplot.show(close=None, block=None)>"
      ]
     },
     "execution_count": 17,
     "metadata": {},
     "output_type": "execute_result"
    },
    {
     "data": {
      "image/png": "[encoded data removed]",
      "text/plain": [
       "<Figure size 1200x600 with 1 Axes>"
      ]
     },
     "metadata": {},
     "output_type": "display_data"
    }
   ],
   "source": [
    "#sort models by RMSE\n",
    "model_sorted=models.sort_values(by=\"RMSE\")\n",
    "\n",
    "#plotting RMSE for top models\n",
    "plt.figure(figsize=(12,6))\n",
    "plt.barh(model_sorted.index[:10], model_sorted[\"RMSE\"][:10], color=\"skyblue\")\n",
    "plt.xlabel(\"Model\")\n",
    "plt.ylabel(\"Top 10 Models-RMSE Comparison\")\n",
    "plt.gca().invert_yaxis()\n",
    "plt.show"
   ]
  },
  {
   "cell_type": "code",
   "execution_count": 18,
   "id": "9afef8c9-3170-4dc9-a14a-2c0fb2ee2193",
   "metadata": {},
   "outputs": [
    {
     "name": "stdout",
     "output_type": "stream",
     "text": [
      "Best Model Selected:\n",
      "               Adjusted R-Squared  R-Squared    RMSE  Time Taken\n",
      "Model                                                           \n",
      "BayesianRidge               -0.00       0.00 1096.41        0.03\n"
     ]
    }
   ],
   "source": [
    "#finding best model based on RMSE\n",
    "best_model=models.sort_values(by=\"RMSE\").head(1)\n",
    "print(\"Best Model Selected:\")\n",
    "print(best_model)"
   ]
  }
 ],
 "metadata": {
  "kernelspec": {
   "display_name": "Python 3 (ipykernel)",
   "language": "python",
   "name": "python3"
  },
  "language_info": {
   "codemirror_mode": {
    "name": "ipython",
    "version": 3
   },
   "file_extension": ".py",
   "mimetype": "text/x-python",
   "name": "python",
   "nbconvert_exporter": "python",
   "pygments_lexer": "ipython3",
   "version": "3.11.1"
  }
 },
 "nbformat": 4,
 "nbformat_minor": 5
}
